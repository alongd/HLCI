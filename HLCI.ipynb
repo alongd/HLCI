{
 "cells": [
  {
   "cell_type": "markdown",
   "metadata": {},
   "source": [
    "## Huckel-Lewis Configuration-Interaction (HL-CI) for resonance weights determination\n",
    "\n",
    "#### written by Alon Grinberg Dana, alongd@mit.edu"
   ]
  },
  {
   "cell_type": "code",
   "execution_count": 1,
   "metadata": {},
   "outputs": [],
   "source": [
    "import numpy as np\n",
    "from rmgpy.species import Species\n",
    "from rmgpy.molecule import Molecule\n",
    "from IPython.display import display\n",
    "import time"
   ]
  },
  {
   "cell_type": "code",
   "execution_count": 2,
   "metadata": {},
   "outputs": [],
   "source": [
    "class HLCI(object):\n",
    "    \"\"\"\n",
    "    A class of the Huckel-Lewis Configuration-Interaction (HL-CI) method\n",
    "    \n",
    "    Based on:\n",
    "    D. Hagebaum-Reignier, R. Girardi, Y. Carissan, S. Humbel, J. Mol. Struc. THEOCHEM 817 (2007) 99-109\n",
    "    doi: 10.1016/j.theochem.2007.04.026\n",
    "    \n",
    "    The attributes are:\n",
    "\n",
    "    ======================== =================== ======================================================================\n",
    "    Attribute                Type                Description\n",
    "    ======================== =================== ======================================================================\n",
    "    `species`                :class:`Species`    The species on which calculation is performed\n",
    "    `number_of_structures`   ``int``             The number of Molecules in self.species\n",
    "    `nonreactive_structures` ``list``            Indixes of Molecules in the Species with `.reactive = False`\n",
    "    `number_of_reactive`     ``int``             The number of Molecules in the Species with `.reactive = True`\n",
    "    `number_of_atoms`        ``int``             The number of atoms that participate in mesomery\n",
    "    `electrons`              ``int``             The number of electrons participaring in mesomery\n",
    "    `M`                      ``numpy array``     The Huckel Matrix of the resonance hybrid\n",
    "    `Mi`                     ``list``            The Huckel Matrices of the localized contributors\n",
    "    `eigvals`                ``list``            The eigenvalues of M\n",
    "    `eigvects`               ``list``            The eigenvectors of M\n",
    "    `eigvals_i`              ``list``            The eigenvalues of each matrix in Mi\n",
    "    `eigvects_i`             ``list``            The eigenvectors of each matrix in Mi\n",
    "    `E`                      ``list``            The total energy of the resonance hybrid as: E[0]*alpha + E[1]*beta\n",
    "    `Ei`                     ``list``            The total energies of the resonance contributors as:\n",
    "                                                     E[0]*alpha + E[1]*beta\n",
    "    `DEi`                    ``list``            The differences `Ei-E` for all resonance contributors.\n",
    "                                                     Stores only the beta coefficients.\n",
    "    `B`                      ``float``           The interaction energy difference\n",
    "    `mesomery_atom_ids`      ``list``            The Atom.id's of the atoms participating in the mesomery\n",
    "    `consecutive_atom_ids`   ``dictionary``      Keys: mesomery_atom_ids, Values: positive consecutive indices\n",
    "    `lp_rad_array`           ``list``            An array where each entry is a list corresponding to an atom and\n",
    "                                                     contains [lone_pairs,radical] lists of each resonance contributor\n",
    "    `occ_local_lp`           ``dictionary``      Keys: structure number, Values: list of consecutive_atom_ids\n",
    "                                                     corresponding to occupied localized lone pair orbitals\n",
    "    `occ_local_rads`         ``dictionary``      Keys: structure number, Values: list of consecutive_atom_ids\n",
    "                                                     corresponding to occupied localized radical orbitals\n",
    "    `C`                      ``list``            The solution set to the non-linear HL-CI and Coulson-Chirgwin system\n",
    "    `w`                      ``list``            The weights of the resonance contributors\n",
    "    ======================== =================== ======================================================================\n",
    "    \"\"\"\n",
    "    \n",
    "    def __init__(self,species):\n",
    "        t0 = time.time()  # temp\n",
    "        # Check that atom ids were assigned.\n",
    "        # Since atom ids are `-1` by default, simply check that two ids are different\n",
    "        assert species.molecule[0].atoms[0].id != species.molecule[0].atoms[1].id, \"Cannot run the HL-CI method before assigning atom ids\"\n",
    "        self.species = species\n",
    "        self.number_of_structures = len(self.species.molecule)\n",
    "        self.move_nonreactive()\n",
    "        \n",
    "        if self.number_of_reactive >= 2:\n",
    "            self.compute_huckel_energies()\n",
    "            print \"E:  \", self.E  # temp\n",
    "            for Ei in self.Ei:\n",
    "                print \"Ei: \", Ei\n",
    "            print \"B = \", self.B\n",
    "            max_de = max(self.DEi)\n",
    "            max_de_indices = [indx for indx, de in enumerate(self.DEi) if de == max_de]\n",
    "            i = 0\n",
    "            while self.DEi[0] < max_de and i < 3:\n",
    "                # The fist structure in the species isn't the most stable one (all structures have the same\n",
    "                # alpha coefficient and beta is negative -- so higher beta implies lower energy, hence stability).\n",
    "                # Reorder structures and recalc energies, since h, k values are determined based on the first structure,\n",
    "                # and they should be representative of the species.\n",
    "                self.species.molecule[:self.number_of_reactive] = [mol for _,mol in sorted(zip(self.DEi,self.species.molecule[:self.number_of_reactive]), key=lambda x: x[0], reverse=True)]\n",
    "                self.compute_huckel_energies()\n",
    "                print \"E:  \", self.E  # temp\n",
    "                for Ei in self.Ei:\n",
    "                    print \"Ei: \", Ei\n",
    "                print \"B = \", self.B\n",
    "                max_de = max(self.DEi)\n",
    "                max_de_indices = [indx for indx, de in enumerate(self.DEi) if de == max_de]\n",
    "                i += 1\n",
    "            self.compute_mesomery_weights()\n",
    "            \n",
    "            # temp\n",
    "            for Ci in self.C:\n",
    "                print \"Ci: \", Ci\n",
    "            \n",
    "            for i, mol in enumerate(self.species.molecule):\n",
    "                if i not in self.nonreactive_structures:\n",
    "                    display(mol)\n",
    "                    print \"wi = {0:.1f}%\".format(self.w[i] * 100)\n",
    "                else:\n",
    "                    print \"non-reactive molecule:\"\n",
    "                    display(mol)\n",
    "                \n",
    "            print \"time: \", time.time() - t0\n",
    "        \n",
    "        #for i in xrange(number_of_reactive):\n",
    "        #    self.species.molecule[i].weight = self.w[i]\n",
    "    \n",
    "    def move_nonreactive(self):\n",
    "        \"\"\"\n",
    "        Relocate any non-reactive molecule in Species to the end of the molecule list\n",
    "        \"\"\"\n",
    "        nonreactive = sum([1 for mol in self.species.molecule if not mol.reactive])\n",
    "        self.number_of_reactive = self.number_of_structures - nonreactive\n",
    "        if nonreactive:\n",
    "            i = 0\n",
    "            while i < self.number_of_reactive:\n",
    "                if not self.species.molecule[i].reactive:\n",
    "                    self.species.molecule.append(self.species.molecule.pop(i))\n",
    "                else:\n",
    "                    i += 1\n",
    "                if i == 100:  # should not be triggered, but just to be safe and not loop infinately\n",
    "                    raise ValueError, \"Cannot determine non reactive structures\"\n",
    "        self.nonreactive_structures = [i for i, mol in enumerate(self.species.molecule) if not mol.reactive]\n",
    "    \n",
    "    def compute_huckel_energies(self):\n",
    "        \"\"\"\n",
    "        Constructs the classic Huckel determinant for the delocalized resonance hybrid (species)\n",
    "        and the Configuration Interaction Huckel determinant for the localized resonance contributors (molecules)\n",
    "        \"\"\"\n",
    "        self.find_atoms()\n",
    "        self.M = np.zeros((self.number_of_atoms, self.number_of_atoms), dtype=np.float)\n",
    "        self.Mi = np.zeros((self.number_of_reactive, self.number_of_atoms, self.number_of_atoms), dtype=np.float)\n",
    "\n",
    "        # assume molecule[0] is the most respresentative resonance contributor, and determine all h, k parameters by it\n",
    "        atoms_in_mol0 = {}  # keep a dictionary of atoms in mollecule[0], by which k paramekers are determined\n",
    "        i = 0  # cannot use enumerate() in foir loop since we skip hydrogens\n",
    "        for j, mol in enumerate(self.species.molecule):\n",
    "            for i, atom in enumerate(mol.atoms):\n",
    "                if atom.id in self.mesomery_atom_ids:\n",
    "                    if j == 0:\n",
    "                        atoms_in_mol0[atom.id] = atom\n",
    "                        # calculate h coefficients only for the first molecule, as they are identical\n",
    "                        h = self.determine_huckel_heteroatom_parameters('h',atom)\n",
    "                        self.M[i,i] = -h\n",
    "                        for jj in xrange(self.number_of_reactive):\n",
    "                            self.Mi[jj,i,i] = -h\n",
    "                        i += 1\n",
    "                    for neighboring_atom in atom.bonds:\n",
    "                        if atom.bonds[neighboring_atom].order > 1 and neighboring_atom.id in self.mesomery_atom_ids:\n",
    "                            if j == 0:\n",
    "                                k = self.determine_huckel_heteroatom_parameters('k',atom,neighboring_atom)\n",
    "                            else:\n",
    "                                k = self.determine_huckel_heteroatom_parameters('k',atoms_in_mol0[atom.id],atoms_in_mol0[neighboring_atom.id])\n",
    "                            if atom.bonds[neighboring_atom].isTriple():\n",
    "                                k *= 1\n",
    "                            if self.M[self.consecutive_atom_ids[atom.id],\n",
    "                                   self.consecutive_atom_ids[neighboring_atom.id]] <= k:\n",
    "                                # make sure higher k values are not being overwritten (i.e., triple bonds aren't over-written by double bonds)\n",
    "                                self.M[self.consecutive_atom_ids[atom.id],\n",
    "                                       self.consecutive_atom_ids[neighboring_atom.id]] = k\n",
    "                                self.M[self.consecutive_atom_ids[neighboring_atom.id],\n",
    "                                       self.consecutive_atom_ids[atom.id]] = k\n",
    "                            # the same 'k' value must be used througout all structures,\n",
    "                            # even if an atom changes its valance.\n",
    "                            self.Mi[j, self.consecutive_atom_ids[atom.id],\n",
    "                                   self.consecutive_atom_ids[neighboring_atom.id]] = k\n",
    "                            self.Mi[j, self.consecutive_atom_ids[neighboring_atom.id],\n",
    "                                   self.consecutive_atom_ids[atom.id]] = k\n",
    "\n",
    "        assert np.allclose(self.M, self.M.T, atol=1e-8), \"Generated a non-symetric hybrid Huckel matrix for species {0}\".format(species)\n",
    "\n",
    "        print \"M:\\n\", self.M\n",
    "        # temp\n",
    "        for Mi in self.Mi:\n",
    "            print \"Mi:\\n\", Mi\n",
    "        \n",
    "        self.generate_lp_rad_array()\n",
    "        self.count_electrons()\n",
    "\n",
    "        self.eigvals, self.eigvecs = np.linalg.eigh(self.M)\n",
    "        self.populate_energy_levels(hybrid=True)  # self.E is updated\n",
    "\n",
    "        self.eigvals_i = []\n",
    "        self.eigvecs_i = []\n",
    "        for mi in self.Mi:\n",
    "            eigvals_i, eigvecs_i = np.linalg.eigh(mi)\n",
    "            self.eigvals_i.append(eigvals_i)\n",
    "            self.eigvecs_i.append(eigvecs_i)\n",
    "        self.populate_energy_levels(hybrid=False)\n",
    "        self.compute_energy_differences()  # calculate DEi and B\n",
    "\n",
    "\n",
    "    def find_atoms(self):\n",
    "        \"\"\"\n",
    "        Finds heavy atoms generates a consecutive atom id list starting from 0\n",
    "        to assist in addressing relevant matrix entries\n",
    "        \"\"\"\n",
    "        self.mesomery_atom_ids = []     # the Atom.id\n",
    "        self.consecutive_atom_ids = {}  # a positive integer for each Atom.id in the form of a dictionary\n",
    "        for i, atom0 in enumerate(self.species.molecule[0].atoms):\n",
    "            if atom0.isNonHydrogen():\n",
    "                self.mesomery_atom_ids.append(atom0.id)\n",
    "                self.consecutive_atom_ids[atom0.id] = i\n",
    "        \n",
    "        # temp\n",
    "      #  print \"mesomery_atom_ids: \", self.mesomery_atom_ids  \n",
    "                        \n",
    "        self.number_of_atoms=len(self.mesomery_atom_ids)\n",
    "\n",
    "    def determine_huckel_heteroatom_parameters(self, param, atom, neighboring_atom=None):\n",
    "        \"\"\"\n",
    "        Determine the heteroatoms correction parameters h (also called hA or hX) and k (also called kCA or kXY).\n",
    "        In the reduced form of the secular Huckel determinant, use x+h instead of x, and k instead of 1.\n",
    "        Data taken from F.A. Van-Catledge, J. Org. Chem., 1980, 45(23), 4801-4802, doi: 10.1021/jo01311a060\n",
    "        Note that currently B, F, P, and hypervalance Cl aren't implemented in RMG, yet their values are given\n",
    "        here for comprehensiveness.\n",
    "        Function variables:\n",
    "            `param`              A string directing the function which correction parameter to output: 'h', 'k', or 'hk'\n",
    "            `atom`               The atom for which the h parameter is determined\n",
    "            `neighboring_atom`   Optional. The neighbor for which the k parameter is determined in relation to atom\n",
    "        \"\"\"\n",
    "        h_dic = {'C': 0.00, 'B': -0.45, 'N1': 0.51, 'N2': 1.37, 'O1': 0.97, 'O2': 2.09, 'F': 2.71,\n",
    "                 'Si': 0.00, 'P1': 0.19, 'P2': 0.75, 'S1': 0.46, 'S2': 1.11, 'Cl': 1.48}\n",
    "        k_dic = {\n",
    "            'C':  {'C': 1.00, 'B': 0.73, 'N1':1.02, 'N2':0.89, 'O1':1.06, 'O2':0.66, 'F': 0.52, 'Si':0.75, 'P1':0.77, 'P2':0.76, 'S1':0.81, 'S2':0.69, 'Cl':0.62},\n",
    "            'B':  {'B': 0.87, 'N1':0.66, 'N2':0.53, 'O1':0.60, 'O2':0.35, 'F': 0.26, 'Si':0.57, 'P1':0.53, 'P2':0.54, 'S1':0.51, 'S2':0.44, 'Cl':0.41},\n",
    "            'N1': {'N1':1.09, 'N2':0.99, 'O1':1.14, 'O2':0.80, 'F' :0.65, 'Si':0.72, 'P1':0.78, 'P2':0.81, 'S1':0.83, 'S2':0.78, 'Cl':0.77},\n",
    "            'N2': {'N2':0.98, 'O1':1.13, 'O2':0.89, 'F': 0.77, 'Si':0.43, 'P1':0.55, 'P2':0.64, 'S1':0.68, 'S2':0.73, 'Cl':0.80},\n",
    "            'O1': {'O1':1.26, 'O2':1.02, 'F': 0.92, 'Si':0.65, 'P1':0.75, 'P2':0.82, 'S1':0.84, 'S2':0.85, 'Cl':0.88},\n",
    "            'O2': {'O2':0.95, 'F': 0.94, 'Si':0.24, 'P1':0.31, 'P2':0.39, 'S1':0.43, 'S2':0.54, 'Cl':0.70},\n",
    "            'F':  {'F': 1.04, 'Si':0.17, 'P1':0.21, 'P2':0.22, 'S1':0.28, 'S2':0.32, 'Cl':0.51},\n",
    "            'Si': {'Si':0.64, 'P1':0.62, 'P2':0.52, 'S1':0.61, 'S2':0.40, 'Cl':0.34},\n",
    "            'P1': {'P1':0.63, 'P2':0.58, 'S1':0.65, 'S2':0.48, 'Cl':0.35},\n",
    "            'P2': {'P2':0.63, 'S1':0.65, 'S2':0.60, 'Cl':0.55},\n",
    "            'S1': {'S1':0.68, 'S2':0.58, 'Cl':0.52},\n",
    "            'S2': {'S2':0.63, 'Cl':0.59},\n",
    "            'Cl': {'Cl':0.68},\n",
    "        }\n",
    "        if 'h' in param:\n",
    "            try:\n",
    "                token = self.generate_heteroatom_tokens(atom)\n",
    "            except NotImplementedError: # don't use heteroatom correction for unimplemented tokens\n",
    "                token = 'C'\n",
    "            h = h_dic[token]\n",
    "        if 'k' in param:\n",
    "            assert neighboring_atom, \"Cannot compute k parameter without knowing which neighboring atom was intended\"\n",
    "            try:\n",
    "                token = self.generate_heteroatom_tokens(atom)\n",
    "                neighbor_token = self.generate_heteroatom_tokens(neighboring_atom)\n",
    "            except NotImplementedError: # don't use heteroatom correction for unimplemented tokens\n",
    "                token = 'C'\n",
    "                neighbor_token = 'C'\n",
    "            try:\n",
    "                k = k_dic[token][neighbor_token]\n",
    "            except:\n",
    "                k = k_dic[neighbor_token][token]\n",
    "        if 'h' in param and 'k' in param and h and k:\n",
    "            return h, k\n",
    "        elif param == 'h':\n",
    "            return h\n",
    "        elif param == 'k':\n",
    "            return k\n",
    "        else:\n",
    "            raise ValueError(\"Could not interpret the intendend Huckel heteroatom correction for input {0}\".format(param))\n",
    "\n",
    "    def generate_heteroatom_tokens(self, atom):\n",
    "        \"\"\"\n",
    "        determine the respective atom token to be used for the h_dic and k_dic\n",
    "        \"\"\"\n",
    "        token = None\n",
    "\n",
    "        if atom.isCarbon() and atom.lonePairs == 0:\n",
    "            token = 'C'\n",
    "        elif atom.isSilicon() and atom.lonePairs == 0:\n",
    "            token = 'Si'\n",
    "        elif atom.isNitrogen():\n",
    "            if atom.lonePairs >= 1:\n",
    "                token = 'N1'\n",
    "            elif atom.lonePairs == 0:\n",
    "                token = 'N2'\n",
    "        elif atom.isOxygen():\n",
    "            if atom.lonePairs >= 2:\n",
    "                token = 'O1'\n",
    "            elif atom.lonePairs <= 1:\n",
    "                token = 'O2'\n",
    "        elif atom.isSulfur():\n",
    "            if atom.lonePairs >= 2:\n",
    "                token = 'S1'\n",
    "            elif atom.lonePairs <= 1:\n",
    "                token = 'S2'\n",
    "        if not token:\n",
    "            raise NotImplementedError(\"No Huckel correction found for atom {0}\".format(atom))\n",
    "        \n",
    "     #   print \"using token: \", token  # temp\n",
    "        return token\n",
    "\n",
    "    def generate_lp_rad_array(self):\n",
    "        \"\"\"\n",
    "        Generate an array where each line is a list corresponding to an atom\n",
    "        and contains [lone_pair,radical] lists for that atom in each resonance contributor\n",
    "        \"\"\"\n",
    "        self.lp_rad_array = []\n",
    "        for atom_id in self.mesomery_atom_ids:\n",
    "            self.lp_rad_array.append([[get_atom_by_id(mol,atom_id).lonePairs,\n",
    "                                       get_atom_by_id(mol,atom_id).radicalElectrons]\n",
    "                                       for mol in self.species.molecule])\n",
    "\n",
    "    def count_electrons(self):\n",
    "        \"\"\"\n",
    "        Counts the electrons that participate in the mesomery,\n",
    "        whether they are in localized multiple bonds, lone pairs or radicals.\n",
    "        To avoid accounting for electrons twice, only *decreasing* lone pairs / radicals / multiple bonds\n",
    "        between the first structure and all others are considered as resonating electrons.\n",
    "        \"\"\"\n",
    "        assert self.mesomery_atom_ids, \"Could not count resonating electrons before determining resonating atoms\"\n",
    "        if not self.lp_rad_array:\n",
    "            self.generate_lp_rad_array()\n",
    "        resonating_lone_pairs = []\n",
    "        resonating_radicals = []\n",
    "        # Count decrementing lone pairs and radicals\n",
    "        for i in xrange(self.number_of_atoms):\n",
    "            lp_diff = 0\n",
    "            rad_diff = 0\n",
    "            for structure_number in xrange(1,self.number_of_reactive):\n",
    "                if self.lp_rad_array[i][0][0] > self.lp_rad_array[i][structure_number][0] + lp_diff:\n",
    "                    # self.lp_rad_array[i][0][0] is interpreted as:\n",
    "                    # self.lp_rad_array[atom][structure][0 for lone pairs, 1 for rads]\n",
    "                    lp_diff = self.lp_rad_array[i][0][0] - self.lp_rad_array[i][structure_number][0]\n",
    "                if self.lp_rad_array[i][0][1] > self.lp_rad_array[i][structure_number][1] + rad_diff:\n",
    "                    rad_diff = self.lp_rad_array[i][0][1] - self.lp_rad_array[i][structure_number][1]\n",
    "            resonating_lone_pairs.append(lp_diff * 2)\n",
    "            resonating_radicals.append(rad_diff)\n",
    "        # Count decrementing pi bonds:\n",
    "        resonating_multiple_bonds = []\n",
    "        explored_atoms = []  # track atom ids of explored atoms to assist in accounting for bonds only from one direction\n",
    "        for atom_id in self.mesomery_atom_ids:\n",
    "            bonds_in_all_structures = []\n",
    "            for mol in self.species.molecule:\n",
    "                bonds_in_all_structures.append(mol.getBonds(get_atom_by_id(mol,atom_id)))\n",
    "            for key0 in bonds_in_all_structures[0]:  # check for decrementing multiple bonds in molecule[0] only\n",
    "                if key0.id not in explored_atoms:\n",
    "                    if bonds_in_all_structures[0][key0].order > 1:\n",
    "                        # Found a multiple bond to an unexplored atom in molecule[0].\n",
    "                        # Check whether any other structure has a lower bond order between this atom (atom_id)\n",
    "                        # and its neighbor (key0 and key1 in different structures):\n",
    "                        found_dec = False\n",
    "                        for bonds in bonds_in_all_structures[1:]:\n",
    "                            for key1 in bonds:\n",
    "                                if key0.id == key1.id:\n",
    "                                    if bonds_in_all_structures[0][key0].order > bonds[key1].order:\n",
    "                                        resonating_multiple_bonds.append(2)\n",
    "                                        found_dec = True\n",
    "                                    break  # found this bond, stop searching for it\n",
    "                            if found_dec:\n",
    "                                break  # This bond decrements in at least one other structure, don't bother searching for more\n",
    "            explored_atoms.append(atom_id)  # don't explore additional bonds to this atom when searching from different atoms\n",
    "        print \"lps: \", resonating_lone_pairs\n",
    "        print \"rads: \", resonating_radicals\n",
    "        print \"bonds: \", resonating_multiple_bonds\n",
    "        self.electrons = sum(resonating_lone_pairs) + sum(resonating_radicals) + sum(resonating_multiple_bonds)\n",
    "        \n",
    "        # temp\n",
    "        print \"electrons: \", self.electrons\n",
    "\n",
    "    def populate_energy_levels(self, hybrid=True):\n",
    "        \"\"\"\n",
    "        Populate energy levels\n",
    "        If hybrid is `True`, the energy levels are populated starting from the lowest one,\n",
    "        and self.E is updated with the sum of the occupied energy levels.\n",
    "        If hybrid is `False`, localized lone pairs are populated first,\n",
    "        then continuing to populate starting from the lowest one\n",
    "        and the localized energy levels, ei, are determined.\n",
    "        \"\"\"\n",
    "        electron_pairs = int(self.electrons / 2)\n",
    "        unpaired_electron = self.electrons % 2\n",
    "\n",
    "        if hybrid:\n",
    "            # This is the resonance hybrid\n",
    "            # Compose and sort energy levels:\n",
    "            ei_list = [[1,-x] for x in self.eigvals]  # E = alpha - x * beta\n",
    "            ei_list.sort(key=lambda tup: tup[1], reverse=True)  # sort from the lowest ei to the highest (beta is negative)\n",
    "            print \"e_list: \", ei_list\n",
    "            # Sum populated energies:\n",
    "            self.E = [0,0]  # corresponding to alpha and beta coefficients\n",
    "            for i in xrange(electron_pairs):\n",
    "                self.E[0] += ei_list[i][0] * 2\n",
    "                self.E[1] += ei_list[i][1] * 2\n",
    "            if unpaired_electron:\n",
    "                i += 1\n",
    "                self.E[0] += ei_list[i][0]\n",
    "                self.E[1] += ei_list[i][1]\n",
    "        else:\n",
    "            # These are the resonance contributors\n",
    "            self.find_localized_electrons()\n",
    "            self.Ei = []\n",
    "            # Compose and sort energy levels:\n",
    "            for structure_number in xrange(self.number_of_reactive):\n",
    "                ei_list = [[1,-x] for x in self.eigvals_i[structure_number]]  # E = alpha - x * beta\n",
    "                ei_list.sort(key=lambda tup: tup[1], reverse=True)  # sort from the lowest ei to the highest (beta is negative)\n",
    "        #        for lp in self.occ_local_lp[structure_number]:\n",
    "        #            root = -self.Mi[structure_number][lp][lp]  # lp points to the atom number, so get the opposit of the respective diagonal value\n",
    "        #            for ei_number in xrange(len(ei_list)):\n",
    "        #                if ei_list[ei_number][1] == root:\n",
    "        #                    ei_list.insert(0,ei_list.pop(ei_number))  # remove the energy level corresponding to the unoccupied orbital, so it is not occupied\n",
    "        #                    break\n",
    "                for rad in self.occ_local_rads[structure_number]:\n",
    "                    root = -self.Mi[structure_number][rad][rad]  # rad points to the atom number, so get the opposit of the respective diagonal value\n",
    "                    for ei_number in xrange(len(ei_list)):\n",
    "                        if ei_list[ei_number][1] == root:\n",
    "                            ei_list.insert(self.electrons,ei_list.pop(ei_number))  # relocate the energy level corresponding to the occupied lone pair orbital to the top of the list, so it is occupied\n",
    "                            break\n",
    "                print \"ei_list: \", ei_list\n",
    "                # Sum populated energies for each structure:\n",
    "                Ei = [0,0]  # corresponding to alpha and beta coefficients\n",
    "                for i in xrange(electron_pairs):\n",
    "                    Ei[0] += ei_list[i][0] * 2\n",
    "                    Ei[1] += ei_list[i][1] * 2\n",
    "                    print \"occupying ei = \", ei_list[i][1], \"with 2 electrons\"\n",
    "                if unpaired_electron:\n",
    "                    i += 1\n",
    "                    Ei[0] += ei_list[i][0]\n",
    "                    Ei[1] += ei_list[i][1]\n",
    "                    print \"occupying ei = \", ei_list[i][1], \"with 1 electron\"\n",
    "                self.Ei.append(Ei)\n",
    "        \n",
    "    def compute_energy_differences(self):\n",
    "        \"\"\"\n",
    "        Sij are the overlap integrals, and the terms `Hij - E * Sij` are the interaction energy differences.\n",
    "        All energy differences are assumed to be equal to a single value named B.\n",
    "        Only the negative root B is taken.\n",
    "        This computation follows Eq. (4) in (doi: 10.1016/j.theochem.2007.04.026),\n",
    "        where the unicity of a negative root B is also shown.\n",
    "        \"\"\"\n",
    "        n = self.number_of_reactive\n",
    "        self.DEi = [Ei[1] - self.E[1] for Ei in self.Ei]\n",
    "        \n",
    "        sigma_list = []\n",
    "        mul_index = 1\n",
    "        for k in xrange(n+1):\n",
    "            if k == 0:\n",
    "                sigma = 1\n",
    "            elif k == 1:\n",
    "                sigma = sum(self.DEi)\n",
    "            else:\n",
    "                sigma = 0\n",
    "                for leading_index in xrange(k, n+1):\n",
    "                    product = self.DEi[leading_index - 1]\n",
    "                    for following_index in xrange(k-1):\n",
    "                        product *= self.DEi[following_index]\n",
    "                    sigma += product\n",
    "            sigma_list.append(sigma)\n",
    "        polynomial = []\n",
    "        for k in xrange(n+1):\n",
    "            polynomial.insert(0,(-1)**(k-1) * (k-1) * sigma_list[n-k])\n",
    "        roots = np.roots(polynomial)\n",
    "        \n",
    "        # temp\n",
    "        print \"B polynomial: \", polynomial\n",
    "        print \"B roots: \", roots\n",
    "        if isinstance(roots[0], complex) and any([root.imag == 0 for root in roots]):\n",
    "            roots = [root.real for root in roots if root.imag == 0]\n",
    "        self.B = max(roots)  # roots are coeeficient * beta, where beta is negative. Hence, max(roots) returns the negative root.\n",
    "        print \"self.B: \", self.B\n",
    "                \n",
    "    def find_localized_electrons(self):\n",
    "        \"\"\"\n",
    "        Finds the lone pair and radical orbitals in all resonance contibutors,\n",
    "        and determine whether or not they are occupied.\n",
    "        Relevant localized lone pairs \\ radicals in a resonance contributor are identified as rows\n",
    "        (and columns, since Mi are symmetric) with all off-diagonal elements equal to zero (i.e., orbitals\n",
    "        that do not interact with other atoms).\n",
    "        The respective orbitals are considered ocuppied if the atom posseses the highest number of\n",
    "        lone pairs \\ radicals of all resonance contributors (i.e., there are other resonance contibutors where\n",
    "        this atom has less lone pairs \\ radicals)\n",
    "        \"\"\"\n",
    "        print self.lp_rad_array\n",
    "        self.occ_local_lp = {}          # occupied localized lone pair orbitals\n",
    "        self.occ_local_rads = {}        # occupied localized radical orbitals\n",
    "        for structure_number in xrange(self.number_of_reactive):\n",
    "            struc_occ_local_lp = []\n",
    "            struc_occ_local_rads = []\n",
    "            lone_pairs = rads = False\n",
    "            for i in xrange(self.number_of_atoms):\n",
    "                # Check whether this is a lone pair or a radical that participate in mesomery.\n",
    "                # Need to satisfy three conditions: a row with all zero off-diagonal values (no multuple bonds to\n",
    "                # this atom); not all entries in the res_lp_array are identical for this atom (the lone pair or rad\n",
    "                # participate in mesomery); this entry has the maximum value (i.e., posseses the lone pair or radical)\n",
    "                if all([self.Mi[structure_number][i][j] == 0 for j in xrange(self.number_of_atoms) if i != j]):\n",
    "                    # Verify and determine occupancy:\n",
    "                    if (self.lp_rad_array[i][structure_number][0] == max([lp_rad[0] for lp_rad in self.lp_rad_array[i]])\n",
    "                            and any(lp_rad[0] != self.lp_rad_array[i][0][0] for lp_rad in self.lp_rad_array[i][1:])):\n",
    "                        # self.lp_rad_array[i][structure_number][0] is interpreted as self.lp_rad_array[atom][structure_number][0 for lone pairs, 1 for rads]\n",
    "                        struc_occ_local_lp.append(i)\n",
    "                        lone_pairs = True\n",
    "                    if (self.lp_rad_array[i][structure_number][1] == max([lp_rad[1] for lp_rad in self.lp_rad_array[i]])\n",
    "                            and any(lp_rad[1] != self.lp_rad_array[i][0][1] for lp_rad in self.lp_rad_array[i][1:])):\n",
    "                        # not `elif` since an atom could change both lp and rad, e.g., NO2.\n",
    "                        struc_occ_local_rads.append(i)\n",
    "                        rads = True\n",
    "            self.occ_local_lp[structure_number] = struc_occ_local_lp\n",
    "            self.occ_local_rads[structure_number] = struc_occ_local_rads\n",
    "            # Check that there are enough electrons for all occupied lone pair and radical orbitals:\n",
    "            assert len(struc_occ_local_lp) * 2 + len(struc_occ_local_rads) <= self.electrons, \"Missmatch between\"\\\n",
    "                    \" the number of occupied lone pair ({0}) and radical ({1}) orbitals, and the overall number of\"\\\n",
    "                    \" pi electrons ({2}) in resonance structure {3}\".format(\n",
    "                    len(struc_occ_local_lp), len(struc_occ_local_rads), self.electrons,\n",
    "                    self.species.molecule[structure_number])\n",
    "\n",
    "    def compute_mesomery_weights(self):\n",
    "        \"\"\"\n",
    "        Computing the mesomery weights by solving the HL-CI matrix of the type:\n",
    "        | DE1  B   B  |   | C1 |   | 0 |\n",
    "        |  B  DE2  B  | * | C2 | = | 0 |\n",
    "        |  B   B  DE3 |   | C3 |   | 0 |\n",
    "        (DEi, B are all known)\n",
    "        along with the Coulson-Chirgwin equation sum(Ci^2)=1:\n",
    "        C1^2 + C2^2 + C3^2 = 1\n",
    "        For any aritrary size.\n",
    "        Note that one of the equations in M * b = 0 is not unique in HL-CI,\n",
    "        therefore we will only solve for (n-1) equations from the M * b = 0 system\n",
    "        combined with the Coulson-Chirgwin equation.\n",
    "        Once the Coulson-Chirgwin equation is added, the system is no longer linear, nor could it be linearized.\n",
    "        We will use an initial guess of (1/n)^0.5 for all Ci's (which corresponds to equal weights).\n",
    "        Eventually, the desired weights are given by: wi = Ci^2\n",
    "        \"\"\"\n",
    "        from scipy.optimize import fsolve\n",
    "        assert self.B is not None, \"Cannot compute mesomery weights before the interaction energy difference B is determined\"\n",
    "        \n",
    "        # generate an initial guess\n",
    "#        C0 = [(1/(i+1))**0.5 for i in xrange(self.number_of_reactive)]\n",
    "        C0 = [1 for i in xrange(self.number_of_reactive)]\n",
    "        \n",
    "        self.C = fsolve(self.hlci_obj_f, C0)\n",
    "        \n",
    "        self.w = [Ci ** 2 for Ci in self.C]\n",
    "        \n",
    "        self.hlci_checks()  # checks that the final result is physical\n",
    "        \n",
    "    def hlci_obj_f(self, C):\n",
    "        \"\"\"\n",
    "        Constructs an objective function of non-linear equation system with (n-1) HL-CI linear equations\n",
    "        and the non-linear Coulson-Chirgwin equation.\n",
    "        C is the vector [C1,C2,C3,...] for which the functions in `f` are evaluated.\n",
    "        \"\"\"\n",
    "        f = []\n",
    "        for i in xrange(self.number_of_reactive - 1):\n",
    "            fi = 0\n",
    "            for j, c in enumerate(C):\n",
    "                if i == j:\n",
    "                    # this is a diagonal element, so use Ei\n",
    "                    fi += self.DEi[j] * c\n",
    "                else:\n",
    "                    # this is an off-diagonal element, so use B\n",
    "                    fi += self.B * c\n",
    "            f.append(fi)\n",
    "        # Add the Coulson-Chirgwin equation\n",
    "        f.append(sum([Ci ** 2 for Ci in C])-1)\n",
    "        return f\n",
    "    \n",
    "    def hlci_checks(self):\n",
    "        \"\"\"\n",
    "        At the end of the run, check the contributor energies, and troubelshoot if necessary.\n",
    "        (A.) Sometimes this method fails to describe the localized energies, and results in a non deterministic\n",
    "        behaviour. The symptom is when one (or more?) of the localized energy(ies) equals the overall energy\n",
    "        (e.g., in the case of `[N]=S` and `N[N]`, where one of the Mi's is identical to M).\n",
    "        In these cases, the first structure is assigned wi=100%, and the second wi=0%, regardless of Ei.\n",
    "        This method fixed the non-deterministic behavious by setting the resonance contributor with the lowest\n",
    "        energy as the dominant one (and sets a low weight for the others).\n",
    "        (B.) If a species has too many resonance contibutors which were not filtered out usign qualitative rules\n",
    "        (such as C=C[CH]CC=C[CH]CC=C[CH]CC=C[CH]CC=C[CH]CC=C[CH]CC which has 64 resonance contributors),\n",
    "        B may have imaginary roots. In this case some Ci could be unphysical (negative) and the weights aren't\n",
    "        calculated appropriately. In such cases, just give each resnance contributor an equal weight.\n",
    "        \"\"\"\n",
    "        import logging\n",
    "        DEi = [Ei[1] - self.E[1] for Ei in self.Ei]\n",
    "        zero_de = []\n",
    "        for i, de in enumerate(DEi):\n",
    "            if de == 0:\n",
    "                zero_de.append(i)\n",
    "        if len(zero_de) > 0:\n",
    "            logging.debug(\"Encountered {0} zero energy differences for species {1} while computing resonance weights. Setting lowest energy structures to highest weight.\".format(len(zero_de),self.species))\n",
    "            self.w = []\n",
    "            minor_w = 0.1 / (self.number_of_reactive - len(zero_de))  # set minor structures to contribute 10% total\n",
    "            major_w = 0.9 / len(zero_de)  # major structures contribute 90% total\n",
    "            print \"minor_w = \", minor_w\n",
    "            print \"major_w = \", major_w\n",
    "            print \"len(zero_de) = \", len(zero_de)\n",
    "            print \"zero_de = \", zero_de\n",
    "            print \"self.number_of_reactive = \", self.number_of_reactive\n",
    "            for i in xrange(self.number_of_reactive):\n",
    "                if i in zero_de:\n",
    "                    self.w.append(major_w)\n",
    "                else:\n",
    "                    self.w.append(minor_w)\n",
    "        elif isinstance(self.B, complex):\n",
    "            logging.debug(\"Encountered only complex B roots for species {0} while computing resonance weights. Setting all weights to be equal.\")\n",
    "            self.w = [1.0/(self.number_of_reactive) for i in xrange(self.number_of_reactive)]\n",
    "        elif any([c < 0 for c in self.C]):\n",
    "            logging.debug(\"Encountered at least one negative C coefficient while computing resonance weights. Setting all weights to be equal.\")\n",
    "            self.w = [1.0/(self.number_of_reactive) for i in xrange(self.number_of_reactive)]\n",
    "    \n",
    "def compare_bonds(self, atom):\n",
    "    \"\"\"\n",
    "    Compare the bonding between two :class:Atom objects\n",
    "    Checks that two atoms, `self` and `atom`, have identical neighbors (by Atom.id),\n",
    "    and that the respective bonds have identical orders.\n",
    "    Returns `True` if all attributes are identical, `False` otherwise.\n",
    "    Used by the HLCI method (implemented in an iPython Notebook in the Work_In_Progress repository)\n",
    "    \"\"\"\n",
    "    assert self.id != atom.id, \"atom id's must be generated via Molecule.assignAtomIDs()\" \\\n",
    "                               \"before comparing bond connectivity.\"\n",
    "    atoms1 = set(self.bonds.keys())\n",
    "    atoms2 = set(atom.bonds.keys())\n",
    "    for atom1 in atoms1:\n",
    "        for atom2 in atoms2:\n",
    "            if atom1.id == atom2.id:\n",
    "                if not self.bonds[atom1].order == atom.bonds[atom2].order:\n",
    "                    # at least one unidentical bond\n",
    "                    return False\n",
    "                break\n",
    "        else:\n",
    "            # exact neighbor id not found\n",
    "            return False\n",
    "    # neighbors and respective bonds are identical\n",
    "    return True\n",
    "    \n",
    "def get_atom_by_id(self, id):\n",
    "    \"\"\"\n",
    "    Returns a :class:Atom with the corresponding id if found,\n",
    "    otherwise returns None.\n",
    "    Used by the HLCI method (implemented in an iPython Notebook in the Work_In_Progress repository)\n",
    "    \"\"\"\n",
    "    for atom in self.atoms:\n",
    "        if atom.id == id:\n",
    "            return atom\n",
    "    return None"
   ]
  },
  {
   "cell_type": "code",
   "execution_count": 3,
   "metadata": {
    "scrolled": false
   },
   "outputs": [
    {
     "data": {
      "image/png": "[encoded data removed]",
      "text/plain": [
       "Molecule(SMILES=\"[O]N=C\")"
      ]
     },
     "metadata": {},
     "output_type": "display_data"
    },
    {
     "data": {
      "image/png": "[encoded data removed]",
      "text/plain": [
       "Molecule(SMILES=\"[CH2]N=O\")"
      ]
     },
     "metadata": {},
     "output_type": "display_data"
    },
    {
     "data": {
      "image/png": "[encoded data removed]",
      "text/plain": [
       "Molecule(SMILES=\"[O-][N+]=C\")"
      ]
     },
     "metadata": {},
     "output_type": "display_data"
    },
    {
     "name": "stdout",
     "output_type": "stream",
     "text": [
      "M:\n",
      "[[-0.97  1.14  0.  ]\n",
      " [ 1.14 -0.51  1.02]\n",
      " [ 0.    1.02 -0.  ]]\n",
      "Mi:\n",
      "[[-0.97  0.    0.  ]\n",
      " [ 0.   -0.51  1.02]\n",
      " [ 0.    1.02 -0.  ]]\n",
      "Mi:\n",
      "[[-0.97  1.14  0.  ]\n",
      " [ 1.14 -0.51  0.  ]\n",
      " [ 0.    0.   -0.  ]]\n",
      "Mi:\n",
      "[[-0.97  0.    0.  ]\n",
      " [ 0.   -0.51  1.02]\n",
      " [ 0.    1.02 -0.  ]]\n",
      "lps:  [0, 2, 0]\n",
      "rads:  [1, 0, 0]\n",
      "bonds:  [2]\n",
      "electrons:  5\n",
      "e_list:  [[1, 2.1249069277609847], [1, 0.43840725780788403], [1, -1.0833141855688688]]\n",
      "[[[2, 1], [2, 0], [3, 0]], [[1, 0], [1, 0], [0, 1]], [[0, 0], [0, 1], [0, 0]]]\n",
      "ei_list:  [[1, 1.3063919345325035], [1, -0.79639193453250345], [1, 0.96999999999999997]]\n",
      "occupying ei =  1.30639193453 with 2 electrons\n",
      "occupying ei =  -0.796391934533 with 2 electrons\n",
      "occupying ei =  0.97 with 1 electron\n",
      "ei_list:  [[1, 1.9029703349613005], [1, -0.42297033496130065], [1, 0.0]]\n",
      "occupying ei =  1.90297033496 with 2 electrons\n",
      "occupying ei =  -0.422970334961 with 2 electrons\n",
      "occupying ei =  0.0 with 1 electron\n",
      "ei_list:  [[1, 1.3063919345325035], [1, 0.96999999999999997], [1, -0.79639193453250345]]\n",
      "occupying ei =  1.30639193453 with 2 electrons\n",
      "occupying ei =  0.97 with 2 electrons\n",
      "occupying ei =  -0.796391934533 with 1 electron\n",
      "B polynomial:  [2, 3.4235506221741048, 0.0, -0.63822537481579888]\n",
      "B roots:  [-1.58470391 -0.51675455  0.38968315]\n",
      "self.B:  0.389683152934\n",
      "E:   [5, 4.0433141855688692]\n",
      "Ei:  [5, 1.99]\n",
      "Ei:  [5, 2.96]\n",
      "Ei:  [5, 3.7563919345325028]\n",
      "B =  0.389683152934\n",
      "M:\n",
      "[[-0.97  1.13  0.  ]\n",
      " [ 1.13 -1.37  0.89]\n",
      " [ 0.    0.89 -0.  ]]\n",
      "Mi:\n",
      "[[-0.97  0.    0.  ]\n",
      " [ 0.   -1.37  0.89]\n",
      " [ 0.    0.89 -0.  ]]\n",
      "Mi:\n",
      "[[-0.97  1.13  0.  ]\n",
      " [ 1.13 -1.37  0.  ]\n",
      " [ 0.    0.   -0.  ]]\n",
      "Mi:\n",
      "[[-0.97  0.    0.  ]\n",
      " [ 0.   -1.37  0.89]\n",
      " [ 0.    0.89 -0.  ]]\n",
      "lps:  [2, 0, 0]\n",
      "rads:  [0, 1, 0]\n",
      "bonds:  [2]\n",
      "electrons:  5\n",
      "e_list:  [[1, 2.5128463729682151], [1, 0.47324866895278739], [1, -0.64609504192100253]]\n",
      "[[[3, 0], [2, 0], [2, 1]], [[0, 1], [1, 0], [1, 0]], [[0, 0], [0, 1], [0, 0]]]\n",
      "ei_list:  [[1, 1.8080872628607274], [1, 0.96999999999999997], [1, -0.43808726286072708]]\n",
      "occupying ei =  1.80808726286 with 2 electrons\n",
      "occupying ei =  0.97 with 2 electrons\n",
      "occupying ei =  -0.438087262861 with 1 electron\n",
      "ei_list:  [[1, 2.3175626344561762], [1, 0.022437365543823695], [1, 0.0]]\n",
      "occupying ei =  2.31756263446 with 2 electrons\n",
      "occupying ei =  0.0224373655438 with 2 electrons\n",
      "occupying ei =  0.0 with 1 electron\n",
      "ei_list:  [[1, 1.8080872628607274], [1, -0.43808726286072708], [1, 0.96999999999999997]]\n",
      "occupying ei =  1.80808726286 with 2 electrons\n",
      "occupying ei =  -0.438087262861 with 2 electrons\n",
      "occupying ei =  0.97 with 1 electron\n",
      "B polynomial:  [2, 2.4701978629022792, 0.0, -0.2171915292360386]\n",
      "B roots:  [-1.1534796  -0.35034427  0.26872493]\n",
      "self.B:  0.268724929738\n",
      "E:   [5, 5.3260950419210022]\n",
      "Ei:  [5, 5.118087262860727]\n",
      "Ei:  [5, 4.6799999999999997]\n",
      "Ei:  [5, 3.7100000000000009]\n",
      "B =  0.268724929738\n",
      "Ci:  0.865308684654\n",
      "Ci:  0.450931293546\n",
      "Ci:  0.218864909851\n"
     ]
    },
    {
     "data": {
      "image/png": "[encoded data removed]",
      "text/plain": [
       "Molecule(SMILES=\"[O-][N+]=C\")"
      ]
     },
     "metadata": {},
     "output_type": "display_data"
    },
    {
     "name": "stdout",
     "output_type": "stream",
     "text": [
      "wi = 74.9%\n"
     ]
    },
    {
     "data": {
      "image/png": "[encoded data removed]",
      "text/plain": [
       "Molecule(SMILES=\"[CH2]N=O\")"
      ]
     },
     "metadata": {},
     "output_type": "display_data"
    },
    {
     "name": "stdout",
     "output_type": "stream",
     "text": [
      "wi = 20.3%\n"
     ]
    },
    {
     "data": {
      "image/png": "[encoded data removed]",
      "text/plain": [
       "Molecule(SMILES=\"[O]N=C\")"
      ]
     },
     "metadata": {},
     "output_type": "display_data"
    },
    {
     "name": "stdout",
     "output_type": "stream",
     "text": [
      "wi = 4.8%\n",
      "time:  0.0372030735016\n"
     ]
    },
    {
     "data": {
      "text/plain": [
       "<__main__.HLCI at 0x7fe9ac228e50>"
      ]
     },
     "execution_count": 3,
     "metadata": {},
     "output_type": "execute_result"
    }
   ],
   "source": [
    "spc0 = Species().fromSMILES('C=N[O]')\n",
    "spc0.generate_resonance_structures()\n",
    "for mol in spc0.molecule:\n",
    "    display(mol)\n",
    "HLCI(spc0)"
   ]
  },
  {
   "cell_type": "code",
   "execution_count": 4,
   "metadata": {
    "scrolled": false
   },
   "outputs": [
    {
     "data": {
      "image/png": "[encoded data removed]",
      "text/plain": [
       "Molecule(SMILES=\"[CH2]C=O\")"
      ]
     },
     "metadata": {},
     "output_type": "display_data"
    },
    {
     "data": {
      "image/png": "[encoded data removed]",
      "text/plain": [
       "Molecule(SMILES=\"C=C[O]\")"
      ]
     },
     "metadata": {},
     "output_type": "display_data"
    },
    {
     "name": "stdout",
     "output_type": "stream",
     "text": [
      "M:\n",
      "[[-0.97  0.    1.06]\n",
      " [ 0.   -0.    1.  ]\n",
      " [ 1.06  1.   -0.  ]]\n",
      "Mi:\n",
      "[[-0.97  0.    1.06]\n",
      " [ 0.   -0.    0.  ]\n",
      " [ 1.06  0.   -0.  ]]\n",
      "Mi:\n",
      "[[-0.97  0.    0.  ]\n",
      " [ 0.   -0.    1.  ]\n",
      " [ 0.    1.   -0.  ]]\n",
      "lps:  [0, 0, 0]\n",
      "rads:  [0, 1, 0]\n",
      "bonds:  [2]\n",
      "electrons:  3\n",
      "e_list:  [[1, 1.8381936463027004], [1, 0.41214900843430491], [1, -1.2803426547370051]]\n",
      "[[[2, 0], [2, 1]], [[0, 1], [0, 0]], [[0, 0], [0, 0]]]\n",
      "ei_list:  [[1, 1.6506864930160252], [1, -0.68068649301602535], [1, 0.0]]\n",
      "occupying ei =  1.65068649302 with 2 electrons\n",
      "occupying ei =  -0.680686493016 with 1 electron\n",
      "ei_list:  [[1, 1.0], [1, -1.0], [1, 0.96999999999999997]]\n",
      "occupying ei =  1.0 with 2 electrons\n",
      "occupying ei =  -1.0 with 1 electron\n",
      "B polynomial:  [-1, -0.0, 4.5335074165553007]\n",
      "B roots:  [-2.12920347  2.12920347]\n",
      "self.B:  2.12920346998\n",
      "E:   [3, 4.0885363010397056]\n",
      "Ei:  [3, 2.620686493016025]\n",
      "Ei:  [3, 1.0]\n",
      "B =  2.12920346998\n",
      "Ci:  0.823315128145\n",
      "Ci:  0.567584530944\n"
     ]
    },
    {
     "data": {
      "image/png": "[encoded data removed]",
      "text/plain": [
       "Molecule(SMILES=\"[CH2]C=O\")"
      ]
     },
     "metadata": {},
     "output_type": "display_data"
    },
    {
     "name": "stdout",
     "output_type": "stream",
     "text": [
      "wi = 67.8%\n"
     ]
    },
    {
     "data": {
      "image/png": "[encoded data removed]",
      "text/plain": [
       "Molecule(SMILES=\"C=C[O]\")"
      ]
     },
     "metadata": {},
     "output_type": "display_data"
    },
    {
     "name": "stdout",
     "output_type": "stream",
     "text": [
      "wi = 32.2%\n",
      "time:  0.017352104187\n"
     ]
    },
    {
     "data": {
      "text/plain": [
       "<__main__.HLCI at 0x7fe9ac228d90>"
      ]
     },
     "execution_count": 4,
     "metadata": {},
     "output_type": "execute_result"
    }
   ],
   "source": [
    "spc0 = Species().fromSMILES('[CH2]C=O')\n",
    "spc0.generate_resonance_structures()\n",
    "for mol in spc0.molecule:\n",
    "    display(mol)\n",
    "HLCI(spc0)"
   ]
  },
  {
   "cell_type": "code",
   "execution_count": 5,
   "metadata": {},
   "outputs": [
    {
     "data": {
      "image/png": "[encoded data removed]",
      "text/plain": [
       "Molecule(SMILES=\"C=C[CH]C=O\")"
      ]
     },
     "metadata": {},
     "output_type": "display_data"
    },
    {
     "data": {
      "image/png": "[encoded data removed]",
      "text/plain": [
       "Molecule(SMILES=\"[CH2]C=CC=O\")"
      ]
     },
     "metadata": {},
     "output_type": "display_data"
    },
    {
     "data": {
      "image/png": "[encoded data removed]",
      "text/plain": [
       "Molecule(SMILES=\"C=CC=C[O]\")"
      ]
     },
     "metadata": {},
     "output_type": "display_data"
    },
    {
     "name": "stdout",
     "output_type": "stream",
     "text": [
      "M:\n",
      "[[-0.97  0.    0.    0.    1.06]\n",
      " [ 0.   -0.    1.    0.    1.  ]\n",
      " [ 0.    1.   -0.    1.    0.  ]\n",
      " [ 0.    0.    1.   -0.    0.  ]\n",
      " [ 1.06  1.    0.    0.   -0.  ]]\n",
      "Mi:\n",
      "[[-0.97  0.    0.    0.    1.06]\n",
      " [ 0.   -0.    0.    0.    0.  ]\n",
      " [ 0.    0.   -0.    1.    0.  ]\n",
      " [ 0.    0.    1.   -0.    0.  ]\n",
      " [ 1.06  0.    0.    0.   -0.  ]]\n",
      "Mi:\n",
      "[[-0.97  0.    0.    0.    1.06]\n",
      " [ 0.   -0.    1.    0.    0.  ]\n",
      " [ 0.    1.   -0.    0.    0.  ]\n",
      " [ 0.    0.    0.   -0.    0.  ]\n",
      " [ 1.06  0.    0.    0.   -0.  ]]\n",
      "Mi:\n",
      "[[-0.97  0.    0.    0.    0.  ]\n",
      " [ 0.   -0.    0.    0.    1.  ]\n",
      " [ 0.    0.   -0.    1.    0.  ]\n",
      " [ 0.    0.    1.   -0.    0.  ]\n",
      " [ 0.    1.    0.    0.   -0.  ]]\n",
      "lps:  [0, 0, 0, 0, 0]\n",
      "rads:  [0, 1, 0, 0, 0]\n",
      "bonds:  [2, 2]\n",
      "electrons:  5\n",
      "e_list:  [[1, 1.9480800570774621], [1, 1.3120091959028302], [1, 0.26122041010233615], [1, -0.85798908003656704], [1, -1.6933205830460614]]\n",
      "[[[2, 0], [2, 0], [2, 1]], [[0, 1], [0, 0], [0, 0]], [[0, 0], [0, 0], [0, 0]], [[0, 0], [0, 1], [0, 0]], [[0, 0], [0, 0], [0, 0]]]\n",
      "ei_list:  [[1, 1.6506864930160252], [1, 1.0], [1, -0.68068649301602535], [1, -1.0], [1, 0.0]]\n",
      "occupying ei =  1.65068649302 with 2 electrons\n",
      "occupying ei =  1.0 with 2 electrons\n",
      "occupying ei =  -0.680686493016 with 1 electron\n",
      "ei_list:  [[1, 1.6506864930160252], [1, 1.0], [1, -0.68068649301602535], [1, -1.0], [1, -0.0]]\n",
      "occupying ei =  1.65068649302 with 2 electrons\n",
      "occupying ei =  1.0 with 2 electrons\n",
      "occupying ei =  -0.680686493016 with 1 electron\n",
      "ei_list:  [[1, 1.0], [1, 1.0], [1, -1.0], [1, -1.0], [1, 0.96999999999999997]]\n",
      "occupying ei =  1.0 with 2 electrons\n",
      "occupying ei =  1.0 with 2 electrons\n",
      "occupying ei =  -1.0 with 1 electron\n",
      "B polynomial:  [2, 8.1028237621567119, 0.0, -17.654134590804492]\n",
      "B roots:  [-3.17670446 -2.16071242  1.286005  ]\n",
      "self.B:  1.28600499791\n",
      "E:   [5, 6.7813989160629209]\n",
      "Ei:  [5, 4.6206864930160254]\n",
      "Ei:  [5, 4.6206864930160254]\n",
      "Ei:  [5, 3.0]\n",
      "B =  1.28600499791\n",
      "Ci:  0.63723526883\n",
      "Ci:  0.63723526883\n",
      "Ci:  0.433430991413\n"
     ]
    },
    {
     "data": {
      "image/png": "[encoded data removed]",
      "text/plain": [
       "Molecule(SMILES=\"C=C[CH]C=O\")"
      ]
     },
     "metadata": {},
     "output_type": "display_data"
    },
    {
     "name": "stdout",
     "output_type": "stream",
     "text": [
      "wi = 40.6%\n"
     ]
    },
    {
     "data": {
      "image/png": "[encoded data removed]",
      "text/plain": [
       "Molecule(SMILES=\"[CH2]C=CC=O\")"
      ]
     },
     "metadata": {},
     "output_type": "display_data"
    },
    {
     "name": "stdout",
     "output_type": "stream",
     "text": [
      "wi = 40.6%\n"
     ]
    },
    {
     "data": {
      "image/png": "[encoded data removed]",
      "text/plain": [
       "Molecule(SMILES=\"C=CC=C[O]\")"
      ]
     },
     "metadata": {},
     "output_type": "display_data"
    },
    {
     "name": "stdout",
     "output_type": "stream",
     "text": [
      "wi = 18.8%\n",
      "time:  0.0325090885162\n"
     ]
    }
   ],
   "source": [
    "spc0 = Species().fromSMILES('C=C[CH]C=O')\n",
    "spc0.generate_resonance_structures(keep_isomorphic=False)\n",
    "for mol in spc0.molecule:\n",
    "    display(mol)\n",
    "a = HLCI(spc0)"
   ]
  },
  {
   "cell_type": "code",
   "execution_count": 6,
   "metadata": {},
   "outputs": [
    {
     "data": {
      "image/png": "[encoded data removed]",
      "text/plain": [
       "Molecule(SMILES=\"[CH2]N=O\")"
      ]
     },
     "metadata": {},
     "output_type": "display_data"
    },
    {
     "data": {
      "image/png": "[encoded data removed]",
      "text/plain": [
       "Molecule(SMILES=\"[O]N=C\")"
      ]
     },
     "metadata": {},
     "output_type": "display_data"
    },
    {
     "data": {
      "image/png": "[encoded data removed]",
      "text/plain": [
       "Molecule(SMILES=\"[O-][N+]=C\")"
      ]
     },
     "metadata": {},
     "output_type": "display_data"
    },
    {
     "name": "stdout",
     "output_type": "stream",
     "text": [
      "M:\n",
      "[[-0.97  1.14  0.  ]\n",
      " [ 1.14 -0.51  1.02]\n",
      " [ 0.    1.02 -0.  ]]\n",
      "Mi:\n",
      "[[-0.97  1.14  0.  ]\n",
      " [ 1.14 -0.51  0.  ]\n",
      " [ 0.    0.   -0.  ]]\n",
      "Mi:\n",
      "[[-0.97  0.    0.  ]\n",
      " [ 0.   -0.51  1.02]\n",
      " [ 0.    1.02 -0.  ]]\n",
      "Mi:\n",
      "[[-0.97  0.    0.  ]\n",
      " [ 0.   -0.51  1.02]\n",
      " [ 0.    1.02 -0.  ]]\n",
      "lps:  [0, 2, 0]\n",
      "rads:  [0, 0, 1]\n",
      "bonds:  [2]\n",
      "electrons:  5\n",
      "e_list:  [[1, 2.1249069277609847], [1, 0.43840725780788403], [1, -1.0833141855688688]]\n",
      "[[[2, 0], [2, 1], [3, 0]], [[1, 0], [1, 0], [0, 1]], [[0, 1], [0, 0], [0, 0]]]\n",
      "ei_list:  [[1, 1.9029703349613005], [1, -0.42297033496130065], [1, 0.0]]\n",
      "occupying ei =  1.90297033496 with 2 electrons\n",
      "occupying ei =  -0.422970334961 with 2 electrons\n",
      "occupying ei =  0.0 with 1 electron\n",
      "ei_list:  [[1, 1.3063919345325035], [1, -0.79639193453250345], [1, 0.96999999999999997]]\n",
      "occupying ei =  1.30639193453 with 2 electrons\n",
      "occupying ei =  -0.796391934533 with 2 electrons\n",
      "occupying ei =  0.97 with 1 electron\n",
      "ei_list:  [[1, 1.3063919345325035], [1, 0.96999999999999997], [1, -0.79639193453250345]]\n",
      "occupying ei =  1.30639193453 with 2 electrons\n",
      "occupying ei =  0.97 with 2 electrons\n",
      "occupying ei =  -0.796391934533 with 1 electron\n",
      "B polynomial:  [2, 3.4235506221741048, 0.0, -0.63822537481579888]\n",
      "B roots:  [-1.58470391 -0.51675455  0.38968315]\n",
      "self.B:  0.389683152934\n",
      "E:   [5, 4.0433141855688692]\n",
      "Ei:  [5, 2.96]\n",
      "Ei:  [5, 1.99]\n",
      "Ei:  [5, 3.7563919345325028]\n",
      "B =  0.389683152934\n",
      "M:\n",
      "[[-0.97  1.13  0.  ]\n",
      " [ 1.13 -1.37  0.89]\n",
      " [ 0.    0.89 -0.  ]]\n",
      "Mi:\n",
      "[[-0.97  0.    0.  ]\n",
      " [ 0.   -1.37  0.89]\n",
      " [ 0.    0.89 -0.  ]]\n",
      "Mi:\n",
      "[[-0.97  1.13  0.  ]\n",
      " [ 1.13 -1.37  0.  ]\n",
      " [ 0.    0.   -0.  ]]\n",
      "Mi:\n",
      "[[-0.97  0.    0.  ]\n",
      " [ 0.   -1.37  0.89]\n",
      " [ 0.    0.89 -0.  ]]\n",
      "lps:  [2, 0, 0]\n",
      "rads:  [0, 1, 0]\n",
      "bonds:  [2]\n",
      "electrons:  5\n",
      "e_list:  [[1, 2.5128463729682151], [1, 0.47324866895278739], [1, -0.64609504192100253]]\n",
      "[[[3, 0], [2, 0], [2, 1]], [[0, 1], [1, 0], [1, 0]], [[0, 0], [0, 1], [0, 0]]]\n",
      "ei_list:  [[1, 1.8080872628607274], [1, 0.96999999999999997], [1, -0.43808726286072708]]\n",
      "occupying ei =  1.80808726286 with 2 electrons\n",
      "occupying ei =  0.97 with 2 electrons\n",
      "occupying ei =  -0.438087262861 with 1 electron\n",
      "ei_list:  [[1, 2.3175626344561762], [1, 0.022437365543823695], [1, 0.0]]\n",
      "occupying ei =  2.31756263446 with 2 electrons\n",
      "occupying ei =  0.0224373655438 with 2 electrons\n",
      "occupying ei =  0.0 with 1 electron\n",
      "ei_list:  [[1, 1.8080872628607274], [1, -0.43808726286072708], [1, 0.96999999999999997]]\n",
      "occupying ei =  1.80808726286 with 2 electrons\n",
      "occupying ei =  -0.438087262861 with 2 electrons\n",
      "occupying ei =  0.97 with 1 electron\n",
      "B polynomial:  [2, 2.4701978629022792, 0.0, -0.2171915292360386]\n",
      "B roots:  [-1.1534796  -0.35034427  0.26872493]\n",
      "self.B:  0.268724929738\n",
      "E:   [5, 5.3260950419210022]\n",
      "Ei:  [5, 5.118087262860727]\n",
      "Ei:  [5, 4.6799999999999997]\n",
      "Ei:  [5, 3.7100000000000009]\n",
      "B =  0.268724929738\n",
      "Ci:  0.865308684654\n",
      "Ci:  0.450931293546\n",
      "Ci:  0.218864909851\n"
     ]
    },
    {
     "data": {
      "image/png": "[encoded data removed]",
      "text/plain": [
       "Molecule(SMILES=\"[O-][N+]=C\")"
      ]
     },
     "metadata": {},
     "output_type": "display_data"
    },
    {
     "name": "stdout",
     "output_type": "stream",
     "text": [
      "wi = 74.9%\n"
     ]
    },
    {
     "data": {
      "image/png": "[encoded data removed]",
      "text/plain": [
       "Molecule(SMILES=\"[CH2]N=O\")"
      ]
     },
     "metadata": {},
     "output_type": "display_data"
    },
    {
     "name": "stdout",
     "output_type": "stream",
     "text": [
      "wi = 20.3%\n"
     ]
    },
    {
     "data": {
      "image/png": "[encoded data removed]",
      "text/plain": [
       "Molecule(SMILES=\"[O]N=C\")"
      ]
     },
     "metadata": {},
     "output_type": "display_data"
    },
    {
     "name": "stdout",
     "output_type": "stream",
     "text": [
      "wi = 4.8%\n",
      "time:  0.0462689399719\n"
     ]
    }
   ],
   "source": [
    "spc0 = Species().fromSMILES('[CH2]N=O')\n",
    "spc0.generate_resonance_structures(keep_isomorphic=False)\n",
    "for mol in spc0.molecule:\n",
    "    display(mol)\n",
    "a = HLCI(spc0)"
   ]
  },
  {
   "cell_type": "code",
   "execution_count": 7,
   "metadata": {},
   "outputs": [
    {
     "data": {
      "image/png": "[encoded data removed]",
      "text/plain": [
       "Molecule(SMILES=\"C=[C]C(=O)O[O]\")"
      ]
     },
     "metadata": {},
     "output_type": "display_data"
    },
    {
     "data": {
      "image/png": "[encoded data removed]",
      "text/plain": [
       "Molecule(SMILES=\"C=C=C([O])O[O]\")"
      ]
     },
     "metadata": {},
     "output_type": "display_data"
    },
    {
     "name": "stdout",
     "output_type": "stream",
     "text": [
      "M:\n",
      "[[-0.97  0.    0.    0.    0.    0.  ]\n",
      " [ 0.   -0.97  0.    1.06  0.    0.  ]\n",
      " [ 0.    0.   -0.97  0.    0.    0.  ]\n",
      " [ 0.    1.06  0.   -0.    0.    1.  ]\n",
      " [ 0.    0.    0.    0.   -0.    1.  ]\n",
      " [ 0.    0.    0.    1.    1.   -0.  ]]\n",
      "Mi:\n",
      "[[-0.97  0.    0.    0.    0.    0.  ]\n",
      " [ 0.   -0.97  0.    1.06  0.    0.  ]\n",
      " [ 0.    0.   -0.97  0.    0.    0.  ]\n",
      " [ 0.    1.06  0.   -0.    0.    0.  ]\n",
      " [ 0.    0.    0.    0.   -0.    1.  ]\n",
      " [ 0.    0.    0.    0.    1.   -0.  ]]\n",
      "Mi:\n",
      "[[-0.97  0.    0.    0.    0.    0.  ]\n",
      " [ 0.   -0.97  0.    0.    0.    0.  ]\n",
      " [ 0.    0.   -0.97  0.    0.    0.  ]\n",
      " [ 0.    0.    0.   -0.    0.    1.  ]\n",
      " [ 0.    0.    0.    0.   -0.    1.  ]\n",
      " [ 0.    0.    0.    1.    1.   -0.  ]]\n",
      "lps:  [0, 0, 0, 0, 0, 0]\n",
      "rads:  [0, 0, 0, 0, 0, 1]\n",
      "bonds:  [2]\n",
      "electrons:  3\n",
      "e_list:  [[1, 1.9122495796491195], [1, 0.99067345106074411], [1, 0.96999999999999997], [1, 0.96999999999999997], [1, -0.38256429102051998], [1, -1.5503587396893437]]\n",
      "[[[2, 0], [2, 0]], [[2, 0], [2, 1]], [[2, 1], [2, 1]], [[0, 0], [0, 0]], [[0, 0], [0, 0]], [[0, 1], [0, 0]]]\n",
      "ei_list:  [[1, 1.6506864930160252], [1, 1.0], [1, 0.96999999999999997], [1, 0.96999999999999997], [1, -0.68068649301602535], [1, -1.0]]\n",
      "occupying ei =  1.65068649302 with 2 electrons\n",
      "occupying ei =  1.0 with 1 electron\n",
      "ei_list:  [[1, 1.4142135623730949], [1, 0.96999999999999997], [1, 0.96999999999999997], [1, 0.96999999999999997], [1, 6.0715321659188248e-18], [1, -1.4142135623730949]]\n",
      "occupying ei =  1.41421356237 with 2 electrons\n",
      "occupying ei =  0.97 with 1 electron\n",
      "B polynomial:  [-1, -0.0, 0.52240344854395848]\n",
      "B roots:  [-0.72277483  0.72277483]\n",
      "self.B:  0.722774825616\n",
      "E:   [3, 4.8151726103589834]\n",
      "Ei:  [3, 4.3013729860320504]\n",
      "Ei:  [3, 3.7984271247461896]\n",
      "B =  0.722774825616\n",
      "Ci:  0.815047762153\n",
      "Ci:  0.579393774051\n"
     ]
    },
    {
     "data": {
      "image/png": "[encoded data removed]",
      "text/plain": [
       "Molecule(SMILES=\"C=[C]C(=O)O[O]\")"
      ]
     },
     "metadata": {},
     "output_type": "display_data"
    },
    {
     "name": "stdout",
     "output_type": "stream",
     "text": [
      "wi = 66.4%\n"
     ]
    },
    {
     "data": {
      "image/png": "[encoded data removed]",
      "text/plain": [
       "Molecule(SMILES=\"C=C=C([O])O[O]\")"
      ]
     },
     "metadata": {},
     "output_type": "display_data"
    },
    {
     "name": "stdout",
     "output_type": "stream",
     "text": [
      "wi = 33.6%\n",
      "time:  0.0233719348907\n"
     ]
    }
   ],
   "source": [
    "spc0 = Species().fromSMILES('C=[C]C(=O)O[O]')\n",
    "spc0.generate_resonance_structures(keep_isomorphic=False)\n",
    "for mol in spc0.molecule:\n",
    "    display(mol)\n",
    "a = HLCI(spc0)"
   ]
  }
 ],
 "metadata": {
  "kernelspec": {
   "display_name": "rmg_env",
   "language": "python",
   "name": "rmg_env"
  },
  "language_info": {
   "codemirror_mode": {
    "name": "ipython",
    "version": 2
   },
   "file_extension": ".py",
   "mimetype": "text/x-python",
   "name": "python",
   "nbconvert_exporter": "python",
   "pygments_lexer": "ipython2",
   "version": "2.7.15"
  }
 },
 "nbformat": 4,
 "nbformat_minor": 2
}
